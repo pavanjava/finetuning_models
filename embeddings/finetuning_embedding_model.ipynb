{
 "cells": [
  {
   "cell_type": "markdown",
   "id": "c0ba5587-5484-48fb-9b48-af9c94836dd6",
   "metadata": {},
   "source": [
    "# Install required modules"
   ]
  },
  {
   "cell_type": "code",
   "execution_count": 1,
   "id": "f6f56b67-3902-4417-aa1e-3cc9332b5f06",
   "metadata": {
    "scrolled": true
   },
   "outputs": [
    {
     "name": "stdout",
     "output_type": "stream",
     "text": [
      "Requirement already satisfied: sentence-transformers in /usr/local/lib/python3.11/dist-packages (5.1.0)\n",
      "Requirement already satisfied: datasets in /usr/local/lib/python3.11/dist-packages (4.0.0)\n",
      "Requirement already satisfied: transformers[torch] in /usr/local/lib/python3.11/dist-packages (4.55.2)\n",
      "Requirement already satisfied: filelock in /usr/local/lib/python3.11/dist-packages (from transformers[torch]) (3.13.1)\n",
      "Requirement already satisfied: huggingface-hub<1.0,>=0.34.0 in /usr/local/lib/python3.11/dist-packages (from transformers[torch]) (0.34.4)\n",
      "Requirement already satisfied: numpy>=1.17 in /usr/local/lib/python3.11/dist-packages (from transformers[torch]) (1.26.3)\n",
      "Requirement already satisfied: packaging>=20.0 in /usr/local/lib/python3.11/dist-packages (from transformers[torch]) (24.1)\n",
      "Requirement already satisfied: pyyaml>=5.1 in /usr/local/lib/python3.11/dist-packages (from transformers[torch]) (6.0.2)\n",
      "Requirement already satisfied: regex!=2019.12.17 in /usr/local/lib/python3.11/dist-packages (from transformers[torch]) (2025.7.34)\n",
      "Requirement already satisfied: requests in /usr/local/lib/python3.11/dist-packages (from transformers[torch]) (2.32.3)\n",
      "Requirement already satisfied: tokenizers<0.22,>=0.21 in /usr/local/lib/python3.11/dist-packages (from transformers[torch]) (0.21.4)\n",
      "Requirement already satisfied: safetensors>=0.4.3 in /usr/local/lib/python3.11/dist-packages (from transformers[torch]) (0.6.2)\n",
      "Requirement already satisfied: tqdm>=4.27 in /usr/local/lib/python3.11/dist-packages (from transformers[torch]) (4.67.1)\n",
      "Requirement already satisfied: torch>=2.1 in /usr/local/lib/python3.11/dist-packages (from transformers[torch]) (2.4.1+cu124)\n",
      "Requirement already satisfied: accelerate>=0.26.0 in /usr/local/lib/python3.11/dist-packages (from transformers[torch]) (1.10.0)\n",
      "Requirement already satisfied: scikit-learn in /usr/local/lib/python3.11/dist-packages (from sentence-transformers) (1.7.1)\n",
      "Requirement already satisfied: scipy in /usr/local/lib/python3.11/dist-packages (from sentence-transformers) (1.16.1)\n",
      "Requirement already satisfied: Pillow in /usr/local/lib/python3.11/dist-packages (from sentence-transformers) (10.2.0)\n",
      "Requirement already satisfied: typing_extensions>=4.5.0 in /usr/local/lib/python3.11/dist-packages (from sentence-transformers) (4.9.0)\n",
      "Requirement already satisfied: pyarrow>=15.0.0 in /usr/local/lib/python3.11/dist-packages (from datasets) (21.0.0)\n",
      "Requirement already satisfied: dill<0.3.9,>=0.3.0 in /usr/local/lib/python3.11/dist-packages (from datasets) (0.3.8)\n",
      "Requirement already satisfied: pandas in /usr/local/lib/python3.11/dist-packages (from datasets) (2.3.1)\n",
      "Requirement already satisfied: xxhash in /usr/local/lib/python3.11/dist-packages (from datasets) (3.5.0)\n",
      "Requirement already satisfied: multiprocess<0.70.17 in /usr/local/lib/python3.11/dist-packages (from datasets) (0.70.16)\n",
      "Requirement already satisfied: fsspec<=2025.3.0,>=2023.1.0 in /usr/local/lib/python3.11/dist-packages (from fsspec[http]<=2025.3.0,>=2023.1.0->datasets) (2024.2.0)\n",
      "Requirement already satisfied: psutil in /usr/local/lib/python3.11/dist-packages (from accelerate>=0.26.0->transformers[torch]) (6.0.0)\n",
      "Requirement already satisfied: aiohttp!=4.0.0a0,!=4.0.0a1 in /usr/local/lib/python3.11/dist-packages (from fsspec[http]<=2025.3.0,>=2023.1.0->datasets) (3.12.15)\n",
      "Requirement already satisfied: hf-xet<2.0.0,>=1.1.3 in /usr/local/lib/python3.11/dist-packages (from huggingface-hub<1.0,>=0.34.0->transformers[torch]) (1.1.7)\n",
      "Requirement already satisfied: charset-normalizer<4,>=2 in /usr/local/lib/python3.11/dist-packages (from requests->transformers[torch]) (3.3.2)\n",
      "Requirement already satisfied: idna<4,>=2.5 in /usr/local/lib/python3.11/dist-packages (from requests->transformers[torch]) (3.10)\n",
      "Requirement already satisfied: urllib3<3,>=1.21.1 in /usr/local/lib/python3.11/dist-packages (from requests->transformers[torch]) (2.2.3)\n",
      "Requirement already satisfied: certifi>=2017.4.17 in /usr/local/lib/python3.11/dist-packages (from requests->transformers[torch]) (2024.8.30)\n",
      "Requirement already satisfied: sympy in /usr/local/lib/python3.11/dist-packages (from torch>=2.1->transformers[torch]) (1.12)\n",
      "Requirement already satisfied: networkx in /usr/local/lib/python3.11/dist-packages (from torch>=2.1->transformers[torch]) (3.2.1)\n",
      "Requirement already satisfied: jinja2 in /usr/local/lib/python3.11/dist-packages (from torch>=2.1->transformers[torch]) (3.1.3)\n",
      "Requirement already satisfied: nvidia-cuda-nvrtc-cu12==12.4.99 in /usr/local/lib/python3.11/dist-packages (from torch>=2.1->transformers[torch]) (12.4.99)\n",
      "Requirement already satisfied: nvidia-cuda-runtime-cu12==12.4.99 in /usr/local/lib/python3.11/dist-packages (from torch>=2.1->transformers[torch]) (12.4.99)\n",
      "Requirement already satisfied: nvidia-cuda-cupti-cu12==12.4.99 in /usr/local/lib/python3.11/dist-packages (from torch>=2.1->transformers[torch]) (12.4.99)\n",
      "Requirement already satisfied: nvidia-cudnn-cu12==9.1.0.70 in /usr/local/lib/python3.11/dist-packages (from torch>=2.1->transformers[torch]) (9.1.0.70)\n",
      "Requirement already satisfied: nvidia-cublas-cu12==12.4.2.65 in /usr/local/lib/python3.11/dist-packages (from torch>=2.1->transformers[torch]) (12.4.2.65)\n",
      "Requirement already satisfied: nvidia-cufft-cu12==11.2.0.44 in /usr/local/lib/python3.11/dist-packages (from torch>=2.1->transformers[torch]) (11.2.0.44)\n",
      "Requirement already satisfied: nvidia-curand-cu12==10.3.5.119 in /usr/local/lib/python3.11/dist-packages (from torch>=2.1->transformers[torch]) (10.3.5.119)\n",
      "Requirement already satisfied: nvidia-cusolver-cu12==11.6.0.99 in /usr/local/lib/python3.11/dist-packages (from torch>=2.1->transformers[torch]) (11.6.0.99)\n",
      "Requirement already satisfied: nvidia-cusparse-cu12==12.3.0.142 in /usr/local/lib/python3.11/dist-packages (from torch>=2.1->transformers[torch]) (12.3.0.142)\n",
      "Requirement already satisfied: nvidia-nccl-cu12==2.20.5 in /usr/local/lib/python3.11/dist-packages (from torch>=2.1->transformers[torch]) (2.20.5)\n",
      "Requirement already satisfied: nvidia-nvtx-cu12==12.4.99 in /usr/local/lib/python3.11/dist-packages (from torch>=2.1->transformers[torch]) (12.4.99)\n",
      "Requirement already satisfied: nvidia-nvjitlink-cu12==12.4.99 in /usr/local/lib/python3.11/dist-packages (from torch>=2.1->transformers[torch]) (12.4.99)\n",
      "Requirement already satisfied: triton==3.0.0 in /usr/local/lib/python3.11/dist-packages (from torch>=2.1->transformers[torch]) (3.0.0)\n",
      "Requirement already satisfied: python-dateutil>=2.8.2 in /usr/local/lib/python3.11/dist-packages (from pandas->datasets) (2.9.0.post0)\n",
      "Requirement already satisfied: pytz>=2020.1 in /usr/local/lib/python3.11/dist-packages (from pandas->datasets) (2025.2)\n",
      "Requirement already satisfied: tzdata>=2022.7 in /usr/local/lib/python3.11/dist-packages (from pandas->datasets) (2025.2)\n",
      "Requirement already satisfied: joblib>=1.2.0 in /usr/local/lib/python3.11/dist-packages (from scikit-learn->sentence-transformers) (1.5.1)\n",
      "Requirement already satisfied: threadpoolctl>=3.1.0 in /usr/local/lib/python3.11/dist-packages (from scikit-learn->sentence-transformers) (3.6.0)\n",
      "Requirement already satisfied: aiohappyeyeballs>=2.5.0 in /usr/local/lib/python3.11/dist-packages (from aiohttp!=4.0.0a0,!=4.0.0a1->fsspec[http]<=2025.3.0,>=2023.1.0->datasets) (2.6.1)\n",
      "Requirement already satisfied: aiosignal>=1.4.0 in /usr/local/lib/python3.11/dist-packages (from aiohttp!=4.0.0a0,!=4.0.0a1->fsspec[http]<=2025.3.0,>=2023.1.0->datasets) (1.4.0)\n",
      "Requirement already satisfied: attrs>=17.3.0 in /usr/local/lib/python3.11/dist-packages (from aiohttp!=4.0.0a0,!=4.0.0a1->fsspec[http]<=2025.3.0,>=2023.1.0->datasets) (24.2.0)\n",
      "Requirement already satisfied: frozenlist>=1.1.1 in /usr/local/lib/python3.11/dist-packages (from aiohttp!=4.0.0a0,!=4.0.0a1->fsspec[http]<=2025.3.0,>=2023.1.0->datasets) (1.7.0)\n",
      "Requirement already satisfied: multidict<7.0,>=4.5 in /usr/local/lib/python3.11/dist-packages (from aiohttp!=4.0.0a0,!=4.0.0a1->fsspec[http]<=2025.3.0,>=2023.1.0->datasets) (6.6.4)\n",
      "Requirement already satisfied: propcache>=0.2.0 in /usr/local/lib/python3.11/dist-packages (from aiohttp!=4.0.0a0,!=4.0.0a1->fsspec[http]<=2025.3.0,>=2023.1.0->datasets) (0.3.2)\n",
      "Requirement already satisfied: yarl<2.0,>=1.17.0 in /usr/local/lib/python3.11/dist-packages (from aiohttp!=4.0.0a0,!=4.0.0a1->fsspec[http]<=2025.3.0,>=2023.1.0->datasets) (1.20.1)\n",
      "Requirement already satisfied: six>=1.5 in /usr/lib/python3/dist-packages (from python-dateutil>=2.8.2->pandas->datasets) (1.16.0)\n",
      "Requirement already satisfied: MarkupSafe>=2.0 in /usr/local/lib/python3.11/dist-packages (from jinja2->torch>=2.1->transformers[torch]) (2.1.5)\n",
      "Requirement already satisfied: mpmath>=0.19 in /usr/local/lib/python3.11/dist-packages (from sympy->torch>=2.1->transformers[torch]) (1.3.0)\n",
      "\u001b[33mWARNING: Running pip as the 'root' user can result in broken permissions and conflicting behaviour with the system package manager, possibly rendering your system unusable.It is recommended to use a virtual environment instead: https://pip.pypa.io/warnings/venv. Use the --root-user-action option if you know what you are doing and want to suppress this warning.\u001b[0m\u001b[33m\n",
      "\u001b[0m\n",
      "\u001b[1m[\u001b[0m\u001b[34;49mnotice\u001b[0m\u001b[1;39;49m]\u001b[0m\u001b[39;49m A new release of pip is available: \u001b[0m\u001b[31;49m24.2\u001b[0m\u001b[39;49m -> \u001b[0m\u001b[32;49m25.2\u001b[0m\n",
      "\u001b[1m[\u001b[0m\u001b[34;49mnotice\u001b[0m\u001b[1;39;49m]\u001b[0m\u001b[39;49m To update, run: \u001b[0m\u001b[32;49mpython -m pip install --upgrade pip\u001b[0m\n"
     ]
    }
   ],
   "source": [
    "!pip install transformers[torch] sentence-transformers datasets"
   ]
  },
  {
   "cell_type": "code",
   "execution_count": 2,
   "id": "dd8b040d-d6b0-43af-9ab2-f4c8cea1179e",
   "metadata": {},
   "outputs": [],
   "source": [
    "from sentence_transformers import SentenceTransformer\n",
    "import torch"
   ]
  },
  {
   "cell_type": "markdown",
   "id": "c4ca72c1-ba97-427a-b261-6c4c31d7e027",
   "metadata": {},
   "source": [
    "# Load Dataset"
   ]
  },
  {
   "cell_type": "code",
   "execution_count": 3,
   "id": "98b0b342-f4f8-4924-853d-d4aa8254f815",
   "metadata": {},
   "outputs": [
    {
     "name": "stdout",
     "output_type": "stream",
     "text": [
      "Dataset({\n",
      "    features: ['anchor', 'positive', 'negative'],\n",
      "    num_rows: 52838\n",
      "})\n",
      "Dataset({\n",
      "    features: ['anchor', 'positive', 'negative'],\n",
      "    num_rows: 17613\n",
      "})\n",
      "Dataset({\n",
      "    features: ['anchor', 'positive', 'negative'],\n",
      "    num_rows: 17613\n",
      "})\n"
     ]
    }
   ],
   "source": [
    "from datasets import load_dataset\n",
    "\n",
    "dataset = load_dataset(\"bebeyondo/medical-triplet\")\n",
    "train_dataset = dataset[\"train\"]\n",
    "test_dataset = dataset[\"test\"]\n",
    "eval_dataset = dataset[\"val\"]\n",
    "\n",
    "# Remove the metadata columns from all datasets\n",
    "columns_to_remove = ['pairs_unique_id', 'idx']\n",
    "\n",
    "# Remove from train dataset\n",
    "train_dataset = train_dataset.remove_columns(columns_to_remove)\n",
    "\n",
    "# Remove from test dataset  \n",
    "test_dataset = test_dataset.remove_columns(columns_to_remove)\n",
    "\n",
    "# Remove from eval dataset\n",
    "eval_dataset = eval_dataset.remove_columns(columns_to_remove)\n",
    "\n",
    "print(train_dataset)\n",
    "print(test_dataset)\n",
    "print(eval_dataset)"
   ]
  },
  {
   "cell_type": "code",
   "execution_count": 4,
   "id": "1bb563a3-e9d6-4f81-97ac-d2a05e9855b7",
   "metadata": {},
   "outputs": [
    {
     "data": {
      "text/html": [
       "<div>\n",
       "<style scoped>\n",
       "    .dataframe tbody tr th:only-of-type {\n",
       "        vertical-align: middle;\n",
       "    }\n",
       "\n",
       "    .dataframe tbody tr th {\n",
       "        vertical-align: top;\n",
       "    }\n",
       "\n",
       "    .dataframe thead th {\n",
       "        text-align: right;\n",
       "    }\n",
       "</style>\n",
       "<table border=\"1\" class=\"dataframe\">\n",
       "  <thead>\n",
       "    <tr style=\"text-align: right;\">\n",
       "      <th></th>\n",
       "      <th>anchor</th>\n",
       "      <th>positive</th>\n",
       "      <th>negative</th>\n",
       "    </tr>\n",
       "  </thead>\n",
       "  <tbody>\n",
       "    <tr>\n",
       "      <th>0</th>\n",
       "      <td>sign (Additional file 5 (Short axial section o...</td>\n",
       "      <td>enlargement and ventricular septum deviation o...</td>\n",
       "      <td>deviation of left ventricle, showing “D” sign ...</td>\n",
       "    </tr>\n",
       "    <tr>\n",
       "      <th>1</th>\n",
       "      <td>endocrinologist’s opinion who advised for eval...</td>\n",
       "      <td>were raised beyond the normal range which was ...</td>\n",
       "      <td>of gestation with singleton pregnancy was refe...</td>\n",
       "    </tr>\n",
       "    <tr>\n",
       "      <th>2</th>\n",
       "      <td>check valve.\\nWe performed bursectomy and ATFL...</td>\n",
       "      <td>check valve.\\nWe performed bursectomy and ATFL...</td>\n",
       "      <td>a fluctuant mass 5 × 8 cm in size, over the an...</td>\n",
       "    </tr>\n",
       "    <tr>\n",
       "      <th>3</th>\n",
       "      <td>male was presented with his persistent back pa...</td>\n",
       "      <td>used home oxygen therapy of 2 l/min on occasio...</td>\n",
       "      <td>He had suffered from chronic dyspnea on effort...</td>\n",
       "    </tr>\n",
       "    <tr>\n",
       "      <th>4</th>\n",
       "      <td>Ltd., South Africa) which were subsequently in...</td>\n",
       "      <td>slightly oversized left fascio-cutaneous radia...</td>\n",
       "      <td>bridge was removed for repair. All implants we...</td>\n",
       "    </tr>\n",
       "    <tr>\n",
       "      <th>...</th>\n",
       "      <td>...</td>\n",
       "      <td>...</td>\n",
       "      <td>...</td>\n",
       "    </tr>\n",
       "    <tr>\n",
       "      <th>52833</th>\n",
       "      <td>59.9 IU/mL (normal &lt;40). Blood and urine cultu...</td>\n",
       "      <td>The patient was discharged with good diabetic ...</td>\n",
       "      <td>days and again improved with reduction in her ...</td>\n",
       "    </tr>\n",
       "    <tr>\n",
       "      <th>52834</th>\n",
       "      <td>measures proved ineffective, the Acute Pain Me...</td>\n",
       "      <td>touch from the toes to the ankle. There was dr...</td>\n",
       "      <td>on the soles of her feet in order to promote v...</td>\n",
       "    </tr>\n",
       "    <tr>\n",
       "      <th>52835</th>\n",
       "      <td>who presented to our Emergency Department 6 ho...</td>\n",
       "      <td>to our Emergency Department 6 hours after he h...</td>\n",
       "      <td>a small suburban home. He was an active tobacc...</td>\n",
       "    </tr>\n",
       "    <tr>\n",
       "      <th>52836</th>\n",
       "      <td>CLL/SLL via lymph node biopsy that was diagnos...</td>\n",
       "      <td>arterial blood gas (ABG) was performed demonst...</td>\n",
       "      <td>with very dark urine. In light of his elevated...</td>\n",
       "    </tr>\n",
       "    <tr>\n",
       "      <th>52837</th>\n",
       "      <td>and his eyes open and rolled back. This lasted...</td>\n",
       "      <td>although one week prior he had had flu-like sy...</td>\n",
       "      <td>speaking or swallowing. There was no abnormali...</td>\n",
       "    </tr>\n",
       "  </tbody>\n",
       "</table>\n",
       "<p>52838 rows × 3 columns</p>\n",
       "</div>"
      ],
      "text/plain": [
       "                                                  anchor  \\\n",
       "0      sign (Additional file 5 (Short axial section o...   \n",
       "1      endocrinologist’s opinion who advised for eval...   \n",
       "2      check valve.\\nWe performed bursectomy and ATFL...   \n",
       "3      male was presented with his persistent back pa...   \n",
       "4      Ltd., South Africa) which were subsequently in...   \n",
       "...                                                  ...   \n",
       "52833  59.9 IU/mL (normal <40). Blood and urine cultu...   \n",
       "52834  measures proved ineffective, the Acute Pain Me...   \n",
       "52835  who presented to our Emergency Department 6 ho...   \n",
       "52836  CLL/SLL via lymph node biopsy that was diagnos...   \n",
       "52837  and his eyes open and rolled back. This lasted...   \n",
       "\n",
       "                                                positive  \\\n",
       "0      enlargement and ventricular septum deviation o...   \n",
       "1      were raised beyond the normal range which was ...   \n",
       "2      check valve.\\nWe performed bursectomy and ATFL...   \n",
       "3      used home oxygen therapy of 2 l/min on occasio...   \n",
       "4      slightly oversized left fascio-cutaneous radia...   \n",
       "...                                                  ...   \n",
       "52833  The patient was discharged with good diabetic ...   \n",
       "52834  touch from the toes to the ankle. There was dr...   \n",
       "52835  to our Emergency Department 6 hours after he h...   \n",
       "52836  arterial blood gas (ABG) was performed demonst...   \n",
       "52837  although one week prior he had had flu-like sy...   \n",
       "\n",
       "                                                negative  \n",
       "0      deviation of left ventricle, showing “D” sign ...  \n",
       "1      of gestation with singleton pregnancy was refe...  \n",
       "2      a fluctuant mass 5 × 8 cm in size, over the an...  \n",
       "3      He had suffered from chronic dyspnea on effort...  \n",
       "4      bridge was removed for repair. All implants we...  \n",
       "...                                                  ...  \n",
       "52833  days and again improved with reduction in her ...  \n",
       "52834  on the soles of her feet in order to promote v...  \n",
       "52835  a small suburban home. He was an active tobacc...  \n",
       "52836  with very dark urine. In light of his elevated...  \n",
       "52837  speaking or swallowing. There was no abnormali...  \n",
       "\n",
       "[52838 rows x 3 columns]"
      ]
     },
     "execution_count": 4,
     "metadata": {},
     "output_type": "execute_result"
    }
   ],
   "source": [
    "train_dataset.to_pandas()"
   ]
  },
  {
   "cell_type": "markdown",
   "id": "d32e3618-64b1-4b8e-980a-b7a00e256c7f",
   "metadata": {},
   "source": [
    "# Load the pretrained model"
   ]
  },
  {
   "cell_type": "code",
   "execution_count": 5,
   "id": "3b338bf0-d1ae-4af8-8203-3f07c19d5e9f",
   "metadata": {},
   "outputs": [],
   "source": [
    "model = SentenceTransformer(\"all-mpnet-base-v2\")"
   ]
  },
  {
   "cell_type": "code",
   "execution_count": 6,
   "id": "4ecbbf4f-b172-4696-94a6-18c49c2dded7",
   "metadata": {},
   "outputs": [
    {
     "data": {
      "text/plain": [
       "SentenceTransformer(\n",
       "  (0): Transformer({'max_seq_length': 384, 'do_lower_case': False, 'architecture': 'MPNetModel'})\n",
       "  (1): Pooling({'word_embedding_dimension': 768, 'pooling_mode_cls_token': False, 'pooling_mode_mean_tokens': True, 'pooling_mode_max_tokens': False, 'pooling_mode_mean_sqrt_len_tokens': False, 'pooling_mode_weightedmean_tokens': False, 'pooling_mode_lasttoken': False, 'include_prompt': True})\n",
       "  (2): Normalize()\n",
       ")"
      ]
     },
     "execution_count": 6,
     "metadata": {},
     "output_type": "execute_result"
    }
   ],
   "source": [
    "model"
   ]
  },
  {
   "cell_type": "markdown",
   "id": "243aa984-6863-4914-bff7-1e873375686d",
   "metadata": {},
   "source": [
    "# Setting the training arguments"
   ]
  },
  {
   "cell_type": "code",
   "execution_count": 7,
   "id": "cdaec6e6-6e9a-4a83-816e-eb4847eb55fc",
   "metadata": {},
   "outputs": [],
   "source": [
    "from sentence_transformers import SentenceTransformerTrainer, SentenceTransformerTrainingArguments\n",
    "from sentence_transformers.losses import TripletLoss\n",
    "from sentence_transformers.training_args import BatchSamplers"
   ]
  },
  {
   "cell_type": "code",
   "execution_count": 9,
   "id": "4ca7e98d-b173-44ac-b45a-8b87186e402f",
   "metadata": {},
   "outputs": [],
   "source": [
    "# there 3 parameters model, scale (opt), similarity function(opt)\n",
    "loss = TripletLoss(model=model)\n",
    "\n",
    "# def get_dot_product_similarity(a, b):\n",
    "#     return torch.matmul(a, b.T)  # Matrix multiplication to handle 2D tensors\n",
    "\n",
    "# For PAIRS training we use MultipleNegativesRankingLoss to compute the probability of all positive entries being the highest\n",
    "# loss = MultipleNegativesRankingLoss(\n",
    "#     model,\n",
    "    # scale=1, # only for dot product, check how the base model was trained.\n",
    "    # similarity_fct=get_dot_product_similarity #comment out to default to cosine\n",
    "# )\n",
    "\n",
    "# # For TRIPLETS training. Initialize the TripletLoss if training on anchor, positive, negative triplets\n",
    "# loss = TripletLoss(model)\n",
    "\n",
    "#Other option\n",
    "# Initialize CoSENTLoss (a variant of cosine loss that enforces the relative similarity ranking of pairs in a batch):"
   ]
  },
  {
   "cell_type": "code",
   "execution_count": 14,
   "id": "d01c156c-fcea-4b51-a06e-3bb04087756c",
   "metadata": {},
   "outputs": [],
   "source": [
    "args = SentenceTransformerTrainingArguments(\n",
    "    output_dir=\"models/ft-all-mpnet-base-v2\",\n",
    "    num_train_epochs=3,\n",
    "    per_device_train_batch_size=64,\n",
    "    per_device_eval_batch_size=64,\n",
    "    warmup_ratio=0.1,\n",
    "    fp16=False, #set it according to your GPU hardware\n",
    "    bf16=True, # #set it according to your GPU hardware\n",
    "    batch_sampler=BatchSamplers.NO_DUPLICATES, # MultipleNegativesRankingLoss benefits from no duplicate samples in a batch\n",
    "    learning_rate=1e-5,\n",
    "    eval_strategy=\"steps\",\n",
    "    eval_steps=500,\n",
    "    save_strategy=\"steps\",\n",
    "    save_steps=500,\n",
    "    logging_steps=500,\n",
    "    run_name=\"ft-all-mpnet-base-v2\" # will be useful in W&B if installed and tracked\n",
    ")"
   ]
  },
  {
   "cell_type": "code",
   "execution_count": 15,
   "id": "1af4b31b-5014-4492-89a3-45d7f68928ff",
   "metadata": {},
   "outputs": [],
   "source": [
    "trainer = SentenceTransformerTrainer(\n",
    "    model=model,\n",
    "    args=args,\n",
    "    train_dataset=train_dataset,\n",
    "    eval_dataset=eval_dataset,\n",
    "    loss=loss\n",
    ")"
   ]
  },
  {
   "cell_type": "code",
   "execution_count": null,
   "id": "5dc4a759-98f6-4824-96b6-5f7f8330ec0c",
   "metadata": {},
   "outputs": [
    {
     "data": {
      "text/html": [
       "\n",
       "    <div>\n",
       "      \n",
       "      <progress value='128' max='2478' style='width:300px; height:20px; vertical-align: middle;'></progress>\n",
       "      [ 128/2478 01:11 < 22:06, 1.77 it/s, Epoch 0.15/3]\n",
       "    </div>\n",
       "    <table border=\"1\" class=\"dataframe\">\n",
       "  <thead>\n",
       " <tr style=\"text-align: left;\">\n",
       "      <th>Step</th>\n",
       "      <th>Training Loss</th>\n",
       "      <th>Validation Loss</th>\n",
       "    </tr>\n",
       "  </thead>\n",
       "  <tbody>\n",
       "  </tbody>\n",
       "</table><p>"
      ],
      "text/plain": [
       "<IPython.core.display.HTML object>"
      ]
     },
     "metadata": {},
     "output_type": "display_data"
    }
   ],
   "source": [
    "trainer.train()"
   ]
  },
  {
   "cell_type": "code",
   "execution_count": 13,
   "id": "10f62bab-17b6-4700-bc07-641dde2c41e9",
   "metadata": {},
   "outputs": [
    {
     "data": {
      "text/plain": [
       "{'ft-all-mpnet-base-v2-test_cosine_accuracy': 0.1668086051940918}"
      ]
     },
     "execution_count": 13,
     "metadata": {},
     "output_type": "execute_result"
    }
   ],
   "source": [
    "from sentence_transformers.evaluation import TripletEvaluator\n",
    "\n",
    "test_evaluator = TripletEvaluator(\n",
    "    anchors=test_dataset[\"anchor\"],\n",
    "    positives=test_dataset[\"positive\"],\n",
    "    negatives=test_dataset[\"negative\"],\n",
    "    name=\"ft-all-mpnet-base-v2-test\",\n",
    ")\n",
    "\n",
    "test_evaluator(model)"
   ]
  },
  {
   "cell_type": "code",
   "execution_count": null,
   "id": "a972c2ba-ff0b-4f8c-838e-e3e2858e38cf",
   "metadata": {},
   "outputs": [],
   "source": [
    "# Save the trained model\n",
    "model.save_pretrained(\"models/ft-all-mpnet-base-v2/final\")\n",
    "\n",
    "# (Optional) Push it to the Hugging Face Hub\n",
    "model.push_to_hub(\"ft-all-mpnet-base-v2-triplet\")"
   ]
  }
 ],
 "metadata": {
  "kernelspec": {
   "display_name": "Python 3 (ipykernel)",
   "language": "python",
   "name": "python3"
  },
  "language_info": {
   "codemirror_mode": {
    "name": "ipython",
    "version": 3
   },
   "file_extension": ".py",
   "mimetype": "text/x-python",
   "name": "python",
   "nbconvert_exporter": "python",
   "pygments_lexer": "ipython3",
   "version": "3.11.10"
  }
 },
 "nbformat": 4,
 "nbformat_minor": 5
}
